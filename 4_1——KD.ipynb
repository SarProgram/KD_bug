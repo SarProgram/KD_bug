{
  "nbformat": 4,
  "nbformat_minor": 0,
  "metadata": {
    "colab": {
      "provenance": [],
      "collapsed_sections": [],
      "authorship_tag": "ABX9TyPPms//Z+sKmAIMqOn1tvxz",
      "include_colab_link": true
    },
    "kernelspec": {
      "name": "python3",
      "display_name": "Python 3"
    },
    "language_info": {
      "name": "python"
    },
    "accelerator": "GPU"
  },
  "cells": [
    {
      "cell_type": "markdown",
      "metadata": {
        "id": "view-in-github",
        "colab_type": "text"
      },
      "source": [
        "<a href=\"https://colab.research.google.com/github/symsssssss/KD_bug/blob/main/4_1%E2%80%94%E2%80%94KD.ipynb\" target=\"_parent\"><img src=\"https://colab.research.google.com/assets/colab-badge.svg\" alt=\"Open In Colab\"/></a>"
      ]
    },
    {
      "cell_type": "code",
      "execution_count": 47,
      "metadata": {
        "id": "B827Ef-J9NKu"
      },
      "outputs": [],
      "source": [
        "import math\n",
        "import torch\n",
        "import torch.nn as nn\n",
        "import torch.nn.functional as F\n",
        "from torchvision import datasets, transforms\n",
        "import torch.utils.data\n",
        "\n",
        "\n",
        "torch.manual_seed(0)   #设置随机数种子，使每次生成的随机数固定\n",
        "torch.cuda.manual_seed(0)"
      ]
    },
    {
      "cell_type": "code",
      "source": [
        "class TeacherNet(nn.Module):    #教师网络\n",
        "    def __init__(self):     #__init__函数\n",
        "        super(TeacherNet, self).__init__() #super调用父类，在此super继承父类的__init__（）函数,第一个参数一般都命名为self\n",
        "        self.conv1 = nn.Conv2d(1, 32, 3, 1)  #二维卷积第一层：宽度和高度都进行卷积，输入通道数1，输出通道数32，卷积核尺寸3*3，池化大小为1\n",
        "        self.conv2 = nn.Conv2d(32, 64, 3, 1)  #二维卷积第二层：宽度和高度都进行卷积，输入通道数32，输出通道数64，卷积核尺寸3*3\n",
        "        self.dropout1 = nn.Dropout2d(0.3)     #Dropout2d第一层：防止过拟合，让30%的部分神经元随机置0不沿网络前向传播更新参数\n",
        "        self.dropout2 = nn.Dropout2d(0.5)     #Dropout2d第二层：防止过拟合，让50%的部分神经元随机置0不沿网络前向传播更新参数\n",
        "        self.fc1 = nn.Linear(9216, 512)    #全连接第一层： 输入神经元个数为9216，输出神经元个数为128，考虑偏置，卷积核尺寸1*1\n",
        "        self.fc2 = nn.Linear(512, 10)     #全连接第二层： 输入神经元个数为128，输出神经元个数为10，考虑偏置，卷积核尺寸1*1\n",
        "\n",
        "\n",
        "    def forward(self, x):   #前向传播函数\n",
        "        x = self.conv1(x)\n",
        "        x = F.relu(x)     #对卷积第一层采用激活函数relu\n",
        "        x = self.conv2(x)\n",
        "        x = F.relu(x)     #对卷积第二层采用激活函数\n",
        "        x = F.max_pool2d(x, 2)  #对二维池化层采用最大池化操作，且步长为2即缩小2倍\n",
        "        x = self.dropout1(x)    #训练的时候要用dropout，验证/测试的时候要关dropout。作用：将输入Tensor的元素按伯努利分布随机置0，防止过拟合\n",
        "        x = torch.flatten(x, 1) #降维，1表示按行降维，0表示按列。按照x的第1个维度拼接（按照列来拼接，横向拼接）\n",
        "        x = self.fc1(x)  \n",
        "        x = F.relu(x)\n",
        "        x = self.dropout2(x)\n",
        "        output = self.fc2(x)         #前向函数直接把全连接层的输出未经过softmax直接输出\n",
        "        return output\n",
        "\n",
        "\n",
        "def train_teacher(model, device, train_loader, optimizer, epoch): #训练教师网络\n",
        "    #训练固定语法\n",
        "    model.train()  #训练部分固定语法，运行后，就告诉了BN层，对之后输入的每个batch独立计算其均值和方差，BN层的参数是在不断变化的。\n",
        "    trained_samples = 0\n",
        "    for batch_idx, (data, target) in enumerate(train_loader):\n",
        "        data, target = data.to(device), target.to(device)\n",
        "        optimizer.zero_grad()  #梯度初始化为零，把loss关于weight的导数变成0\n",
        "        output = model(data)  # forward：将数据传入模型，前向传播求出预测的值\n",
        "        loss = F.cross_entropy(output, target)     #求loss.因为未经过softmax所以要用交叉熵，也可在前向函数的全连接层使用log_softmax然后在此使用nll_loss，其实等价\n",
        "        loss.backward()   # backward：反向传播求梯度\n",
        "        optimizer.step()   # optimizer：更新所有参数\n",
        "        trained_samples += len(data)\n",
        "        progress = math.ceil(batch_idx / len(train_loader) * 50)\n",
        "        print(\"\\rTrain epoch %d: %d/%d, [%-51s] %d%%\" %\n",
        "              (epoch, trained_samples, len(train_loader.dataset),\n",
        "               '-' * progress + '>', progress * 2), end='')\n",
        "\n",
        "\n",
        "def test_teacher(model, device, test_loader):\n",
        "    model.eval()  #测试部分固定语法，就是告诉BN层现在要用刚刚统计的μ和σ来测试我，不要再变μ和σ\n",
        "    test_loss = 0\n",
        "    correct = 0\n",
        "    with torch.no_grad():\n",
        "        for data, target in test_loader:\n",
        "            data, target = data.to(device), target.to(device)\n",
        "            output = model(data)\n",
        "            test_loss += F.cross_entropy(output, target, reduction='sum').item()  # sum up batch loss\n",
        "            pred = output.argmax(dim=1, keepdim=True)  # 输出预测类别\n",
        "            correct += pred.eq(target.view_as(pred)).sum().item()\n",
        "\n",
        "    test_loss /= len(test_loader.dataset)\n",
        "\n",
        "    print('\\nTest: average loss: {:.4f}, accuracy: {}/{} ({:.0f}%)'.format(\n",
        "        test_loss, correct, len(test_loader.dataset),\n",
        "        100. * correct / len(test_loader.dataset)))\n",
        "    return test_loss, correct / len(test_loader.dataset)\n"
      ],
      "metadata": {
        "id": "grEle_nC9QQc"
      },
      "execution_count": 48,
      "outputs": []
    },
    {
      "cell_type": "code",
      "source": [
        "def teacher_main():\n",
        "    epochs = 10      #所有样本训练10次\n",
        "    batch_size = 64    #即每次训练在训练集中取64个样本训练\n",
        "    torch.manual_seed(0)\n",
        "\n",
        "    device = torch.device(\"cuda\" if torch.cuda.is_available() else \"cpu\") #指定GPU训练\n",
        "\n",
        "    train_loader = torch.utils.data.DataLoader(\n",
        "        datasets.MNIST('../data/MNIST', train=True, download=True,transform=transforms.Compose([\n",
        "            transforms.ToTensor(),  #将PIL图像转换为范围[0255]中的张量（H*W*C）置（C*H*W）在[0.0,1.0]范围内\n",
        "            transforms.Normalize((0.1307,), (0.3081,))  #用均值0.1307和标准差0.3081归一化张量图像\n",
        "                       ])),\n",
        "        batch_size=batch_size, shuffle=True)\n",
        "    \n",
        "\n",
        "    test_loader = torch.utils.data.DataLoader(\n",
        "        datasets.MNIST('../data/MNIST', train=False, download=True, transform=transforms.Compose([\n",
        "            transforms.ToTensor(),\n",
        "            transforms.Normalize((0.1307,), (0.3081,))\n",
        "        ])),\n",
        "        batch_size=1000, shuffle=True)\n",
        "\n",
        "    \n",
        "    model = TeacherNet().to(device)\n",
        "    optimizer = torch.optim.Adadelta(model.parameters())  #保持当前参数状态并基于计算得到的梯度进行参数更新\n",
        "    \n",
        "    teacher_history = []\n",
        "\n",
        "    for epoch in range(1, epochs + 1):\n",
        "        train_teacher(model, device, train_loader, optimizer, epoch)\n",
        "        loss, acc = test_teacher(model, device, test_loader)\n",
        "        \n",
        "        teacher_history.append((loss, acc))\n",
        "\n",
        "    torch.save(model.state_dict(), \"teacher.pt\")\n",
        "    return model, teacher_history"
      ],
      "metadata": {
        "id": "C4eKpJ__-lUr"
      },
      "execution_count": 49,
      "outputs": []
    },
    {
      "cell_type": "code",
      "source": [
        "# 训练教师网络\n",
        "\n",
        "teacher_model, teacher_history = teacher_main()"
      ],
      "metadata": {
        "colab": {
          "base_uri": "https://localhost:8080/"
        },
        "id": "E_3Vru0t-o3a",
        "outputId": "767fdf85-4757-432b-8dd7-62df83260bef"
      },
      "execution_count": 50,
      "outputs": [
        {
          "output_type": "stream",
          "name": "stdout",
          "text": [
            "Train epoch 1: 60000/60000, [-------------------------------------------------->] 100%\n",
            "Test: average loss: 0.0447, accuracy: 9857/10000 (99%)\n",
            "Train epoch 2: 60000/60000, [-------------------------------------------------->] 100%\n",
            "Test: average loss: 0.0336, accuracy: 9886/10000 (99%)\n",
            "Train epoch 3: 60000/60000, [-------------------------------------------------->] 100%\n",
            "Test: average loss: 0.0318, accuracy: 9901/10000 (99%)\n",
            "Train epoch 4: 60000/60000, [-------------------------------------------------->] 100%\n",
            "Test: average loss: 0.0304, accuracy: 9908/10000 (99%)\n",
            "Train epoch 5: 60000/60000, [-------------------------------------------------->] 100%\n",
            "Test: average loss: 0.0299, accuracy: 9908/10000 (99%)\n",
            "Train epoch 6: 60000/60000, [-------------------------------------------------->] 100%\n",
            "Test: average loss: 0.0301, accuracy: 9919/10000 (99%)\n",
            "Train epoch 7: 60000/60000, [-------------------------------------------------->] 100%\n",
            "Test: average loss: 0.0273, accuracy: 9921/10000 (99%)\n",
            "Train epoch 8: 60000/60000, [-------------------------------------------------->] 100%\n",
            "Test: average loss: 0.0349, accuracy: 9910/10000 (99%)\n",
            "Train epoch 9: 60000/60000, [-------------------------------------------------->] 100%\n",
            "Test: average loss: 0.0340, accuracy: 9912/10000 (99%)\n",
            "Train epoch 10: 60000/60000, [-------------------------------------------------->] 100%\n",
            "Test: average loss: 0.0297, accuracy: 9918/10000 (99%)\n"
          ]
        }
      ]
    },
    {
      "cell_type": "markdown",
      "source": [
        "小插曲，看看老师的暗知识"
      ],
      "metadata": {
        "id": "J19PmJdrF1z3"
      }
    },
    {
      "cell_type": "code",
      "source": [
        "import numpy as np\n",
        "from matplotlib import pyplot as plt\n",
        "\n",
        "def softmax_t(x, t):   #改进的softmax\n",
        "    x_exp = np.exp(x / t)\n",
        "    return x_exp / np.sum(x_exp)\n",
        "\n",
        "test_loader_bs1 = torch.utils.data.DataLoader(\n",
        "    datasets.MNIST('../data/MNIST', train=False, download=True, transform=transforms.Compose([\n",
        "        transforms.ToTensor(),    #将PIL图像转换为范围[0255]中的张量（H*W*C）置（C*H*W）在[0.0,1.0]范围内\n",
        "        transforms.Normalize((0.1307,), (0.3081,))    #用均值0.1307和标准差0.3081归一化张量图像\n",
        "    ])),\n",
        "    batch_size=1, shuffle=True)"
      ],
      "metadata": {
        "id": "avuHd3dqHsSe"
      },
      "execution_count": 51,
      "outputs": []
    },
    {
      "cell_type": "code",
      "source": [
        "teacher_model.eval()\n",
        "with torch.no_grad():\n",
        "    data, target = next(iter(test_loader_bs1))\n",
        "    data, target = data.to('cuda'), target.to('cuda')\n",
        "    output = teacher_model(data)\n",
        "\n",
        "test_x = data.cpu().numpy()\n",
        "y_out = output.cpu().numpy()  \n",
        "y_out = y_out[0, ::]   \n",
        "print('Output (NO softmax):', y_out)  #y_out就是训练的概率\n",
        "\n",
        "\n",
        "\n",
        "plt.subplot(3, 1, 1)\n",
        "plt.imshow(test_x[0, 0, ::])\n",
        "\n",
        "plt.subplot(3, 1, 2)\n",
        "plt.bar(list(range(10)), softmax_t(y_out, 1), width=0.3)   #温度为1\n",
        "\n",
        "plt.subplot(3, 1, 3)\n",
        "plt.bar(list(range(10)), softmax_t(y_out, 10), width=0.3)   #温度为10\n",
        "plt.show()"
      ],
      "metadata": {
        "colab": {
          "base_uri": "https://localhost:8080/",
          "height": 304
        },
        "id": "4swbT0chI1h1",
        "outputId": "c93c1c4c-1ff7-44b0-ea2b-a5d31895291f"
      },
      "execution_count": 52,
      "outputs": [
        {
          "output_type": "stream",
          "name": "stdout",
          "text": [
            "Output (NO softmax): [-28.341667  -35.360054  -33.788406  -35.781113  -36.776432  -21.957258\n",
            "   1.1059268 -46.6071    -29.371717  -39.05533  ]\n"
          ]
        },
        {
          "output_type": "display_data",
          "data": {
            "text/plain": [
              "<Figure size 432x288 with 3 Axes>"
            ],
            "image/png": "[encoded data removed]"
          },
          "metadata": {
            "needs_background": "light"
          }
        }
      ]
    },
    {
      "cell_type": "markdown",
      "source": [
        "让老师教学生网络"
      ],
      "metadata": {
        "id": "YdvrUi2JJpOt"
      }
    },
    {
      "cell_type": "code",
      "source": [
        "class StudentNet(nn.Module):   #学生网络（教师模型传参）\n",
        "    def __init__(self):\n",
        "        super(StudentNet, self).__init__()\n",
        "        self.fc1 = nn.Linear(28 * 28, 128)  #全连接第一层： 输入神经元个数为28*28，输出神经元个数为128，考虑偏置，卷积核尺寸1*1\n",
        "        self.fc2 = nn.Linear(128, 64)     #全连接第二层： 输入神经元个数为128，输出神经元个数为64，考虑偏置，卷积核尺寸1*1\n",
        "        self.fc3 = nn.Linear(64, 10)  #全连接第三层： 输入神经元个数为64，输出神经元个数为10，考虑偏置，卷积核尺寸1*1\n",
        "\n",
        "    def forward(self, x): #前向传播函数\n",
        "        x = torch.flatten(x, 1)\n",
        "        x = F.relu(self.fc1(x))  \n",
        "        x = F.relu(self.fc2(x))\n",
        "        output = F.relu(self.fc3(x)) #激活函数relu对x非线性化3次\n",
        "        return output"
      ],
      "metadata": {
        "id": "YUGLLOuKJpwU"
      },
      "execution_count": 53,
      "outputs": []
    },
    {
      "cell_type": "markdown",
      "source": [
        "关键，定义kd的loss"
      ],
      "metadata": {
        "id": "YJBFniE_JvQc"
      }
    },
    {
      "cell_type": "code",
      "source": [
        "def distillation(y, labels, teacher_scores, temp, alpha):  #定义损失函数\n",
        "    return nn.KLDivLoss()(F.log_softmax(y / temp, dim=1), F.softmax(teacher_scores / temp, dim=1)) * (\n",
        "            temp * temp * 2.0 * alpha) + F.cross_entropy(y, labels) * (1. - alpha)"
      ],
      "metadata": {
        "id": "b6PBsC70Jvzs"
      },
      "execution_count": 54,
      "outputs": []
    },
    {
      "cell_type": "code",
      "source": [
        "def train_student_kd(model, device, train_loader, optimizer, epoch):   #训练学生网络\n",
        "\n",
        "    #以下均为训练固定语句\n",
        "    model.train()   #训练部分固定语法，运行后，就告诉了BN层，对之后输入的每个batch独立计算其均值和方差，BN层的参数是在不断变化的。\n",
        "    trained_samples = 0\n",
        "    for batch_idx, (data, target) in enumerate(train_loader):\n",
        "        data, target = data.to(device), target.to(device)\n",
        "        optimizer.zero_grad()\n",
        "        output = model(data)\n",
        "        teacher_output = teacher_model(data)\n",
        "        teacher_output = teacher_output.detach()  # 切断老师网络的反向传播，感谢B站“淡淡的落”的提醒\n",
        "        loss = distillation(output, target, teacher_output, temp=5.0, alpha=0.7)\n",
        "        loss.backward()\n",
        "        optimizer.step()\n",
        "        trained_samples += len(data)\n",
        "        progress = math.ceil(batch_idx / len(train_loader) * 50)\n",
        "        print(\"\\rTrain epoch %d: %d/%d, [%-51s] %d%%\" %\n",
        "              (epoch, trained_samples, len(train_loader.dataset),\n",
        "               '-' * progress + '>', progress * 2), end='')\n",
        "\n",
        "\n",
        "def test_student_kd(model, device, test_loader):\n",
        "    #以下均为测试固定语句\n",
        "    model.eval()\n",
        "    test_loss = 0\n",
        "    correct = 0\n",
        "    with torch.no_grad():\n",
        "        for data, target in test_loader:\n",
        "            data, target = data.to(device), target.to(device)\n",
        "            output = model(data)\n",
        "            test_loss += F.cross_entropy(output, target, reduction='sum').item()  # sum up batch loss\n",
        "            pred = output.argmax(dim=1, keepdim=True)  # get the index of the max log-probability\n",
        "            correct += pred.eq(target.view_as(pred)).sum().item()\n",
        "\n",
        "    test_loss /= len(test_loader.dataset)\n",
        "\n",
        "    print('\\nTest: average loss: {:.4f}, accuracy: {}/{} ({:.0f}%)'.format(\n",
        "        test_loss, correct, len(test_loader.dataset),\n",
        "        100. * correct / len(test_loader.dataset)))\n",
        "    return test_loss, correct / len(test_loader.dataset)"
      ],
      "metadata": {
        "id": "RqpFDMzDJzOM"
      },
      "execution_count": 55,
      "outputs": []
    },
    {
      "cell_type": "code",
      "source": [
        "def student_kd_main():   #和教师网络训练只有teacher部分改成了student或student_loss\n",
        "    epochs = 10\n",
        "    batch_size = 64\n",
        "    torch.manual_seed(0)\n",
        "\n",
        "    device = torch.device(\"cuda\" if torch.cuda.is_available() else \"cpu\")\n",
        "\n",
        "    train_loader = torch.utils.data.DataLoader(\n",
        "        datasets.MNIST('../data/MNIST', train=True, download=True,transform=transforms.Compose([\n",
        "                           transforms.ToTensor(),\n",
        "                           transforms.Normalize((0.1307,), (0.3081,))\n",
        "                       ])),\n",
        "        batch_size=batch_size, shuffle=True)\n",
        "    \n",
        "\n",
        "    test_loader = torch.utils.data.DataLoader(\n",
        "        datasets.MNIST('../data/MNIST', train=False, download=True, transform=transforms.Compose([\n",
        "            transforms.ToTensor(),\n",
        "            transforms.Normalize((0.1307,), (0.3081,))\n",
        "        ])),\n",
        "        batch_size=1000, shuffle=True)\n",
        "\n",
        "\n",
        "    model = StudentNet().to(device)\n",
        "    optimizer = torch.optim.Adadelta(model.parameters())\n",
        "    \n",
        "    student_history = []\n",
        "\n",
        "    for epoch in range(1, epochs + 1):\n",
        "        train_student_kd(model, device, train_loader, optimizer, epoch)\n",
        "        loss, acc = test_student_kd(model, device, test_loader)\n",
        "        student_history.append((loss, acc))\n",
        "\n",
        "    torch.save(model.state_dict(), \"student_kd.pt\")\n",
        "    return model, student_history"
      ],
      "metadata": {
        "id": "Q7JEnSB5J0Rs"
      },
      "execution_count": 56,
      "outputs": []
    },
    {
      "cell_type": "code",
      "source": [
        "student_kd_model, student_kd_history = student_kd_main()"
      ],
      "metadata": {
        "colab": {
          "base_uri": "https://localhost:8080/"
        },
        "id": "1ViJmbFAJ21-",
        "outputId": "315dee56-7e92-495c-cd26-2e7cd8a750dd"
      },
      "execution_count": 57,
      "outputs": [
        {
          "output_type": "stream",
          "name": "stdout",
          "text": [
            "Train epoch 1: 60000/60000, [-------------------------------------------------->] 100%\n",
            "Test: average loss: 0.2260, accuracy: 9633/10000 (96%)\n",
            "Train epoch 2: 60000/60000, [-------------------------------------------------->] 100%\n",
            "Test: average loss: 0.1420, accuracy: 9742/10000 (97%)\n",
            "Train epoch 3: 60000/60000, [-------------------------------------------------->] 100%\n",
            "Test: average loss: 0.1058, accuracy: 9801/10000 (98%)\n",
            "Train epoch 4: 60000/60000, [-------------------------------------------------->] 100%\n",
            "Test: average loss: 0.0998, accuracy: 9823/10000 (98%)\n",
            "Train epoch 5: 60000/60000, [-------------------------------------------------->] 100%\n",
            "Test: average loss: 0.0872, accuracy: 9820/10000 (98%)\n",
            "Train epoch 6: 60000/60000, [-------------------------------------------------->] 100%\n",
            "Test: average loss: 0.0823, accuracy: 9833/10000 (98%)\n",
            "Train epoch 7: 60000/60000, [-------------------------------------------------->] 100%\n",
            "Test: average loss: 0.0788, accuracy: 9853/10000 (99%)\n",
            "Train epoch 8: 60000/60000, [-------------------------------------------------->] 100%\n",
            "Test: average loss: 0.0804, accuracy: 9835/10000 (98%)\n",
            "Train epoch 9: 60000/60000, [-------------------------------------------------->] 100%\n",
            "Test: average loss: 0.0759, accuracy: 9859/10000 (99%)\n",
            "Train epoch 10: 60000/60000, [-------------------------------------------------->] 100%\n",
            "Test: average loss: 0.0762, accuracy: 9850/10000 (98%)\n"
          ]
        }
      ]
    },
    {
      "cell_type": "code",
      "source": [
        "## 让学生自己学，不使用KD\n",
        "def train_student(model, device, train_loader, optimizer, epoch):\n",
        "    #训练固定部分\n",
        "    model.train()\n",
        "    trained_samples = 0\n",
        "    for batch_idx, (data, target) in enumerate(train_loader):\n",
        "        data, target = data.to(device), target.to(device)\n",
        "        optimizer.zero_grad()\n",
        "        output = model(data)\n",
        "        loss = F.cross_entropy(output, target)\n",
        "        loss.backward()\n",
        "        optimizer.step()\n",
        "\n",
        "        trained_samples += len(data)\n",
        "        progress = math.ceil(batch_idx / len(train_loader) * 50)\n",
        "        print(\"\\rTrain epoch %d: %d/%d, [%-51s] %d%%\" %\n",
        "              (epoch, trained_samples, len(train_loader.dataset),\n",
        "               '-' * progress + '>', progress * 2), end='')\n",
        "\n",
        "\n",
        "def test_student(model, device, test_loader):\n",
        "    #测试固定部分\n",
        "    model.eval()\n",
        "    test_loss = 0\n",
        "    correct = 0\n",
        "    with torch.no_grad():\n",
        "        for data, target in test_loader:\n",
        "            data, target = data.to(device), target.to(device)\n",
        "            output = model(data)\n",
        "            test_loss += F.cross_entropy(output, target, reduction='sum').item()  # sum up batch loss\n",
        "            pred = output.argmax(dim=1, keepdim=True)  # get the index of the max log-probability\n",
        "            correct += pred.eq(target.view_as(pred)).sum().item()\n",
        "\n",
        "    test_loss /= len(test_loader.dataset)\n",
        "\n",
        "    print('\\nTest: average loss: {:.4f}, accuracy: {}/{} ({:.0f}%)'.format(\n",
        "        test_loss, correct, len(test_loader.dataset),\n",
        "        100. * correct / len(test_loader.dataset)))\n",
        "    return test_loss, correct / len(test_loader.dataset)"
      ],
      "metadata": {
        "id": "3HXOmd4oKim1"
      },
      "execution_count": 58,
      "outputs": []
    },
    {
      "cell_type": "code",
      "source": [
        "def student_main():   #和教师网络只有名字不一样而已\n",
        "    epochs = 10\n",
        "    batch_size = 64\n",
        "    torch.manual_seed(0)\n",
        "\n",
        "    device = torch.device(\"cuda\" if torch.cuda.is_available() else \"cpu\")\n",
        "\n",
        "    train_loader = torch.utils.data.DataLoader(\n",
        "        datasets.MNIST('../data/MNIST', train=True, download=True,\n",
        "                       transform=transforms.Compose([\n",
        "                           transforms.ToTensor(),\n",
        "                           transforms.Normalize((0.1307,), (0.3081,))\n",
        "                       ])),\n",
        "        batch_size=batch_size, shuffle=True)\n",
        "    \n",
        "\n",
        "    test_loader = torch.utils.data.DataLoader(\n",
        "        datasets.MNIST('../data/MNIST', train=False, download=True, transform=transforms.Compose([\n",
        "            transforms.ToTensor(),\n",
        "            transforms.Normalize((0.1307,), (0.3081,))\n",
        "        ])),\n",
        "        batch_size=1000, shuffle=True)\n",
        "\n",
        "\n",
        "    model = StudentNet().to(device)\n",
        "    optimizer = torch.optim.Adadelta(model.parameters())\n",
        "    \n",
        "    student_history = []\n",
        "    \n",
        "    for epoch in range(1, epochs + 1):\n",
        "        train_student(model, device, train_loader, optimizer, epoch)\n",
        "        loss, acc = test_student(model, device, test_loader)\n",
        "        student_history.append((loss, acc))\n",
        "\n",
        "\n",
        "    torch.save(model.state_dict(), \"student.pt\")\n",
        "    return model, student_history"
      ],
      "metadata": {
        "id": "l1UqSff4Kk2U"
      },
      "execution_count": 61,
      "outputs": []
    },
    {
      "cell_type": "code",
      "source": [
        "student_simple_model, student_simple_history = student_main()"
      ],
      "metadata": {
        "colab": {
          "base_uri": "https://localhost:8080/"
        },
        "id": "QY8E3D6NLXxz",
        "outputId": "9b252651-ff98-4ea0-d245-ccc274cee96c"
      },
      "execution_count": 62,
      "outputs": [
        {
          "output_type": "stream",
          "name": "stdout",
          "text": [
            "Train epoch 1: 60000/60000, [-------------------------------------------------->] 100%\n",
            "Test: average loss: 0.1256, accuracy: 9613/10000 (96%)\n",
            "Train epoch 2: 60000/60000, [-------------------------------------------------->] 100%\n",
            "Test: average loss: 0.1028, accuracy: 9714/10000 (97%)\n",
            "Train epoch 3: 60000/60000, [-------------------------------------------------->] 100%\n",
            "Test: average loss: 0.0947, accuracy: 9742/10000 (97%)\n",
            "Train epoch 4: 60000/60000, [-------------------------------------------------->] 100%\n",
            "Test: average loss: 0.0932, accuracy: 9774/10000 (98%)\n",
            "Train epoch 5: 60000/60000, [-------------------------------------------------->] 100%\n",
            "Test: average loss: 0.0976, accuracy: 9750/10000 (98%)\n",
            "Train epoch 6: 60000/60000, [-------------------------------------------------->] 100%\n",
            "Test: average loss: 0.0963, accuracy: 9773/10000 (98%)\n",
            "Train epoch 7: 60000/60000, [-------------------------------------------------->] 100%\n",
            "Test: average loss: 0.1004, accuracy: 9782/10000 (98%)\n",
            "Train epoch 8: 60000/60000, [-------------------------------------------------->] 100%\n",
            "Test: average loss: 0.0995, accuracy: 9801/10000 (98%)\n",
            "Train epoch 9: 60000/60000, [-------------------------------------------------->] 100%\n",
            "Test: average loss: 0.1075, accuracy: 9779/10000 (98%)\n",
            "Train epoch 10: 60000/60000, [-------------------------------------------------->] 100%\n",
            "Test: average loss: 0.1131, accuracy: 9807/10000 (98%)\n"
          ]
        }
      ]
    },
    {
      "cell_type": "code",
      "source": [
        "import matplotlib.pyplot as plt\n",
        "epochs = 10\n",
        "x = list(range(1, epochs+1))\n",
        "\n",
        "plt.subplot(2, 1, 1)\n",
        "plt.plot(x, [teacher_history[i][1] for i in range(epochs)], label='teacher')\n",
        "plt.plot(x, [student_kd_history[i][1] for i in range(epochs)], label='student with KD')\n",
        "plt.plot(x, [student_simple_history[i][1] for i in range(epochs)], label='student without KD')\n",
        "\n",
        "plt.title('Test accuracy')\n",
        "plt.legend()\n",
        "\n",
        "\n",
        "plt.subplot(2, 1, 2)\n",
        "plt.plot(x, [teacher_history[i][0] for i in range(epochs)], label='teacher')\n",
        "plt.plot(x, [student_kd_history[i][0] for i in range(epochs)], label='student with KD')\n",
        "plt.plot(x, [student_simple_history[i][0] for i in range(epochs)], label='student without KD')\n",
        "\n",
        "plt.title('Test loss')\n",
        "plt.legend()"
      ],
      "metadata": {
        "colab": {
          "base_uri": "https://localhost:8080/",
          "height": 299
        },
        "id": "i6i-DM_yMJJL",
        "outputId": "b398ed22-b630-4641-e462-4ddfc6bb82a8"
      },
      "execution_count": 65,
      "outputs": [
        {
          "output_type": "execute_result",
          "data": {
            "text/plain": [
              "<matplotlib.legend.Legend at 0x7f8c71b996d0>"
            ]
          },
          "metadata": {},
          "execution_count": 65
        },
        {
          "output_type": "display_data",
          "data": {
            "text/plain": [
              "<Figure size 432x288 with 2 Axes>"
            ],
            "image/png": "[encoded data removed]"
          },
          "metadata": {
            "needs_background": "light"
          }
        }
      ]
    },
    {
      "cell_type": "code",
      "source": [],
      "metadata": {
        "id": "0YlREAqpMPX1"
      },
      "execution_count": null,
      "outputs": []
    },
    {
      "cell_type": "code",
      "source": [],
      "metadata": {
        "id": "dPm7vQmmMSRN"
      },
      "execution_count": null,
      "outputs": []
    }
  ]
}